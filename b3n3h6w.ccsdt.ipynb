{
 "cells": [
  {
   "cell_type": "code",
   "execution_count": 106,
   "metadata": {
    "collapsed": true
   },
   "outputs": [],
   "source": [
    "from pandas import DataFrame, read_csv\n",
    "import pandas as pd\n",
    "import matplotlib\n",
    "import matplotlib.pyplot as plt\n",
    "import numpy as np\n",
    "# import seaborn as sns\n",
    "\n",
    "%matplotlib inline\n",
    "plt.rc('text',usetex=True)\n",
    "plt.rc('lines',linewidth=1)\n",
    "plt.rc('legend',fontsize=10)\n",
    "plt.rc('mathtext',fontset='cm')\n",
    "plt.rc('font',**{'family':'serif','serif':['Times New Roman'],'size':18},weight='bold')\n",
    "\n",
    "conv=1000*27.212\n",
    "\n",
    "def fdE2(p34,p70):\n",
    "    conv=1000*27.212\n",
    "    if len(p34.index)==1:\n",
    "        return (np.array(p34['energy'])-np.array(p70['energy']))[0]*conv\n",
    "    else:\n",
    "        return (np.array(p34['energy'])-np.array(p70['energy']))*conv\n",
    "\n",
    "def fdE(dimer,m1,m2):\n",
    "    conv=1000*27.212\n",
    "    return (np.array(dimer['energy'])-np.array(m1['energy'])-np.array(m2['energy']))[0]*conv\n",
    "\n",
    "def fccsdtcbs(dfg,cbs,zo):\n",
    "    aVXZ={'aVDZ':2,'aVTZ':3,'aVQZ':4}\n",
    "    X1=aVXZ[cbs['X1']]\n",
    "    X2=aVXZ[cbs['X2']]\n",
    "    sel=dfg[(dfg['zo']==zo)]\n",
    "    sels=sel[(sel['method']=='hf') & (sel['basis']==cbs['X1'])]\n",
    "    dEhf1=fdE(sels[sels['system']==pdefaultsg['system']], sels[sels['system']==pdefaultsg['monomers'][0]], sels[sels['system']==pdefaultsg['monomers'][1]])\n",
    "    sels=sel[(sel['method']=='hf') & (sel['basis']==cbs['X2'])]\n",
    "    dEhf2=fdE(sels[sels['system']==pdefaultsg['system']], sels[sels['system']==pdefaultsg['monomers'][0]], sels[sels['system']==pdefaultsg['monomers'][1]])\n",
    "    dEhfcbs=(dEhf2*np.exp(-1.63*X1)-dEhf1*np.exp(-1.63*X2))/(np.exp(-1.63*X1)-np.exp(-1.63*X2))\n",
    "    # print(dEhf1/43.363,dEhf2/43.363,dEhfcbs/43.363)\n",
    "    sels=sel[(sel['method']=='mp2') & (sel['basis']==cbs['X1'])]\n",
    "    dEmp21=fdE(sels[sels['system']==pdefaultsg['system']], sels[sels['system']==pdefaultsg['monomers'][0]], sels[sels['system']==pdefaultsg['monomers'][1]])\n",
    "    sels=sel[(sel['method']=='mp2') & (sel['basis']==cbs['X2'])]\n",
    "    dEmp22=fdE(sels[sels['system']==pdefaultsg['system']], sels[sels['system']==pdefaultsg['monomers'][0]], sels[sels['system']==pdefaultsg['monomers'][1]])\n",
    "    dEmp2cor1=dEmp21-dEhf1\n",
    "    dEmp2cor2=dEmp22-dEhf2\n",
    "    dEmp2corcbs=(dEmp2cor2*X1**(-3)-dEmp2cor1*X2**(-3))/(X1**(-3)-X2**(-3))\n",
    "    # print(dEmp2cor1/43.363,dEmp2cor2/43.363,dEmp2corcbs/43.363)\n",
    "    dEmp2cbs=dEhfcbs+dEmp2corcbs\n",
    "    # print(dEmp2cbs/43.363)\n",
    "    sels=sel[(sel['method']=='mp2') & (sel['basis']==cbs['smlbs'])]\n",
    "    dEmp2sml=fdE(sels[sels['system']==pdefaultsg['system']], sels[sels['system']==pdefaultsg['monomers'][0]], sels[sels['system']==pdefaultsg['monomers'][1]])\n",
    "    sels=sel[(sel['method']=='ccsdt') & (sel['basis']==cbs['smlbs'])]\n",
    "    dEccsdtsml=fdE(sels[sels['system']==pdefaultsg['system']], sels[sels['system']==pdefaultsg['monomers'][0]], sels[sels['system']==pdefaultsg['monomers'][1]])\n",
    "    dEdiffccsdtmp2=dEccsdtsml-dEmp2sml\n",
    "    dEccsdtcbs=dEmp2cbs+dEdiffccsdtmp2\n",
    "    # print(dEccsdtcbs/43.363)\n",
    "    return (dEccsdtcbs)\n",
    "\n",
    "def fccsdtcbsT(dfg,cbs,zo):\n",
    "    aVXZ={'aVDZ':2,'aVTZ':3,'aVQZ':4}\n",
    "    X1=aVXZ[cbs['X1']]\n",
    "    X2=aVXZ[cbs['X2']]\n",
    "    sel=dfg[(dfg['zo']==zo)]\n",
    "    sels=sel[(sel['method']=='hf') & (sel['basis']==cbs['X1'])]\n",
    "    dEhf1=fdE(sels[sels['system']==pdefaultsg['system']], sels[sels['system']==pdefaultsg['monomers'][0]], sels[sels['system']==pdefaultsg['monomers'][1]])\n",
    "    sels=sel[(sel['method']=='hf') & (sel['basis']==cbs['X2'])]\n",
    "    dEhf2=fdE(sels[sels['system']==pdefaultsg['system']], sels[sels['system']==pdefaultsg['monomers'][0]], sels[sels['system']==pdefaultsg['monomers'][1]])\n",
    "    dEhfcbs=(dEhf2*X1**(-4.93)-dEhf1*X2**(-4.93))/(X1**(-4.93)-X2**(-4.93))\n",
    "    # print(dEhf1/43.363,dEhf2/43.363,dEhfcbs/43.363)\n",
    "    sels=sel[(sel['method']=='mp2') & (sel['basis']==cbs['X1'])]\n",
    "    dEmp21=fdE(sels[sels['system']==pdefaultsg['system']], sels[sels['system']==pdefaultsg['monomers'][0]], sels[sels['system']==pdefaultsg['monomers'][1]])\n",
    "    sels=sel[(sel['method']=='mp2') & (sel['basis']==cbs['X2'])]\n",
    "    dEmp22=fdE(sels[sels['system']==pdefaultsg['system']], sels[sels['system']==pdefaultsg['monomers'][0]], sels[sels['system']==pdefaultsg['monomers'][1]])\n",
    "    dEmp2cor1=dEmp21-dEhf1\n",
    "    dEmp2cor2=dEmp22-dEhf2\n",
    "    dEmp2corcbs=(dEmp2cor2*X1**(-2.13)-dEmp2cor1*X2**(-2.13))/(X1**(-2.13)-X2**(-2.13))\n",
    "    # print(dEmp2cor1/43.363,dEmp2cor2/43.363,dEmp2corcbs/43.363)\n",
    "    dEmp2cbs=dEhfcbs+dEmp2corcbs\n",
    "    # print(dEmp2cbs/43.363)\n",
    "    sels=sel[(sel['method']=='mp2') & (sel['basis']==cbs['smlbs'])]\n",
    "    dEmp2sml=fdE(sels[sels['system']==pdefaultsg['system']], sels[sels['system']==pdefaultsg['monomers'][0]], sels[sels['system']==pdefaultsg['monomers'][1]])\n",
    "    sels=sel[(sel['method']=='ccsdt') & (sel['basis']==cbs['smlbs'])]\n",
    "    dEccsdtsml=fdE(sels[sels['system']==pdefaultsg['system']], sels[sels['system']==pdefaultsg['monomers'][0]], sels[sels['system']==pdefaultsg['monomers'][1]])\n",
    "    dEdiffccsdtmp2=dEccsdtsml-dEmp2sml\n",
    "    dEccsdtcbs=dEmp2cbs+dEdiffccsdtmp2\n",
    "    # print(dEccsdtcbs/43.363)\n",
    "    return (dEccsdtcbs)"
   ]
  },
  {
   "cell_type": "code",
   "execution_count": 107,
   "metadata": {
    "collapsed": false
   },
   "outputs": [
    {
     "data": {
      "text/plain": [
       "<matplotlib.legend.Legend at 0x10b64de80>"
      ]
     },
     "execution_count": 107,
     "metadata": {},
     "output_type": "execute_result"
    },
    {
     "data": {
      "image/png": "[encoded data removed]",
      "text/plain": [
       "<matplotlib.figure.Figure at 0x10b63f320>"
      ]
     },
     "metadata": {},
     "output_type": "display_data"
    }
   ],
   "source": [
    "dfg = pd.read_csv('CSV/bn-w.gaussian.csv')\n",
    "pd.options.display.max_columns = 50\n",
    "pdefaultsg={'system':'b3n3h6-w','monomers':['b3n3h6','w']}\n",
    "dfg=dfg[(dfg['system']==pdefaultsg['system']) | ((dfg['system']==pdefaultsg['monomers'][0]) & (dfg['cp']=='y')) | ((dfg['system']==pdefaultsg['monomers'][1]) & (dfg['cp']=='y') )]\n",
    "\n",
    "sel=dfg[(dfg['zo']==3.36) & (dfg['worient']=='d')]\n",
    "sels=sel[(sel['method']=='mp2') & (sel['basis']==cbs['smlbs'])]\n",
    "dEmp2sml=fdE(sels[sels['system']==pdefaultsg['system']], sels[sels['system']==pdefaultsg['monomers'][0]], sels[sels['system']==pdefaultsg['monomers'][1]])\n",
    "sels=sel[(sel['method']=='ccsdt') & (sel['basis']==cbs['smlbs'])]\n",
    "dEccsdtsml=fdE(sels[sels['system']==pdefaultsg['system']], sels[sels['system']==pdefaultsg['monomers'][0]], sels[sels['system']==pdefaultsg['monomers'][1]])\n",
    "dEdiffccsdtmp2=dEccsdtsml-dEmp2sml\n",
    "sbasis=['aVDZ','aVTZ','aVQZ']\n",
    "sdE=[]\n",
    "for basis in sbasis:\n",
    "    sels=sel[(sel['method']=='mp2') & (sel['basis']==basis)]\n",
    "    dEmp2=fdE(sels[sels['system']==pdefaultsg['system']], sels[sels['system']==pdefaultsg['monomers'][0]], sels[sels['system']==pdefaultsg['monomers'][1]])\n",
    "    sdE.append(dEmp2+dEdiffccsdtmp2)\n",
    "sbasiscbs=['aVDTZ','aVTQZ']\n",
    "sdEcbs=[]\n",
    "sdEcbs.append(fccsdtcbs(dfg[dfg['worient']=='d'],{'X1':'aVDZ','X2':'aVTZ','smlbs':'631gd25'},3.36))\n",
    "sdEcbs.append(fccsdtcbs(dfg[dfg['worient']=='d'],{'X1':'aVTZ','X2':'aVQZ','smlbs':'631gd25'},3.36))\n",
    "sdEcbsT=[]\n",
    "sdEcbsT.append(fccsdtcbsT(dfg[dfg['worient']=='d'],{'X1':'aVDZ','X2':'aVTZ','smlbs':'631gd25'},3.36))\n",
    "sdEcbsT.append(fccsdtcbsT(dfg[dfg['worient']=='d'],{'X1':'aVTZ','X2':'aVQZ','smlbs':'631gd25'},3.36))\n",
    "\n",
    "fig=plt.figure(figsize=(8,6))\n",
    "plt.plot(np.array([2,3,4]),sdE,linestyle=\"\",linewidth=1.5,marker='o',markersize=7,fillstyle='none',mew=1.5,color='b')\n",
    "plt.plot(np.array([6,7]),sdEcbs,linestyle=\"\",linewidth=1.5,marker='s',markersize=7,fillstyle='none',mew=1.5,color='r')\n",
    "plt.plot(np.array([6,7]),sdEcbsT,linestyle=\"\",linewidth=1.5,marker='d',markersize=7,fillstyle='none',mew=1.5,color='k')\n",
    "# plt.xticks(xbasis, sbasis)\n",
    "plt.xticks([2,3,4,5,6,7],['aVDZ','aVTZ','aVQZ','...','CBSDT','CBSTQ'])\n",
    "plt.xlim(1,8)\n",
    "plt.ylabel(\"$\\Delta E$ (meV)\", fontsize=20, fontweight='bold')\n",
    "plt.xlabel(\"Basis\",fontsize=20, fontweight='bold')\n",
    "plt.legend([\"Data\",\"Extrapolation Halkier et al.\",\"Extrapolation Zhao and Truhlar\"])"
   ]
  },
  {
   "cell_type": "code",
   "execution_count": 108,
   "metadata": {
    "collapsed": false
   },
   "outputs": [
    {
     "name": "stdout",
     "output_type": "stream",
     "text": [
      "[-63.598093157895505, -76.233149240875719, -79.598668718272734]\n",
      "-81.9214655392\n",
      "-82.1799182953\n"
     ]
    },
    {
     "data": {
      "image/png": "[encoded data removed]",
      "text/plain": [
       "<matplotlib.figure.Figure at 0x10aba7e10>"
      ]
     },
     "metadata": {},
     "output_type": "display_data"
    }
   ],
   "source": [
    "dEcbsDT=sdEcbs[0]\n",
    "dEcbsTQ=sdEcbs[1]\n",
    "fig=plt.figure(figsize=(8,6))\n",
    "plt.plot(1/np.array([2,3,4]),sdE,linestyle=\"\",linewidth=1.5,marker='o',markersize=7,fillstyle='none',mew=1.5,color='b')\n",
    "plt.plot(0,dEcbsDT,linestyle=\"\",linewidth=1.5,marker='s',markersize=7,fillstyle='none',mew=1.5,color='r')\n",
    "plt.plot(0,dEcbsTQ,linestyle=\"\",linewidth=1.5,marker='d',markersize=7,fillstyle='none',mew=1.5,color='k')\n",
    "plt.xticks([0,1/4,1/3,1/2],['CBS','aVQZ','aVTZ','aVDZ'])\n",
    "plt.xlim(-1/8,5/8)\n",
    "plt.ylabel(\"$\\Delta E$ (meV)\", fontsize=20, fontweight='bold')\n",
    "plt.xlabel(\"$X^{-1}$\",fontsize=20, fontweight='bold')\n",
    "plt.legend([\"Data\",\"Extrapolation using aVDZ and aVTZ\",\"Extrapolation using aVTZ and aVQZ\"])\n",
    "print(sdE)\n",
    "print(dEcbsDT)\n",
    "print(dEcbsTQ)"
   ]
  },
  {
   "cell_type": "code",
   "execution_count": 109,
   "metadata": {
    "collapsed": false
   },
   "outputs": [
    {
     "name": "stdout",
     "output_type": "stream",
     "text": [
      "[233, 506, 928]\n",
      "[  1.00000000e+00   3.67091442e+01   1.27738441e+03]\n"
     ]
    },
    {
     "data": {
      "image/png": "[encoded data removed]",
      "text/plain": [
       "<matplotlib.figure.Figure at 0x10c1a2b70>"
      ]
     },
     "metadata": {},
     "output_type": "display_data"
    }
   ],
   "source": [
    "ncores={'aVDZ':8,'aVTZ':8,'aVQZ':16}\n",
    "mem={'aVDZ':8,'aVTZ':24,'aVQZ':55} # gb\n",
    "cputime={'aVDZ':1+16/60+44/3600,'aVTZ':15+38/60+56.3/3600,'aVQZ':(47+31/60+25.9/3600)*5}\n",
    "nbasisfunction={'aVDZ':233,'aVTZ':506,'aVQZ':928}\n",
    "nbasisgaussian={'aVDZ':389,'aVTZ':720,'aVQZ':1321}\n",
    "\n",
    "snbf=[]\n",
    "scputime=[]\n",
    "for basis in ['aVDZ','aVTZ','aVQZ']:\n",
    "    snbf.append(nbasisfunction[basis])\n",
    "    scputime.append(cputime[basis]*mem[basis])\n",
    "\n",
    "fig=plt.figure(figsize=(8,6))\n",
    "plt.plot(1/np.array([2,3,4]),np.array(scputime)/scputime[0],linestyle=\"\",linewidth=1.5,marker='o',markersize=7,fillstyle='none',mew=1.5,color='b')\n",
    "plt.ylim(0,1400)\n",
    "plt.ylabel(\"Normalized computation cost\", fontsize=20, fontweight='bold')\n",
    "plt.xlabel(\"number of basis functions\",fontsize=20, fontweight='bold')\n",
    "plt.xticks([1/4,1/3,1/2],['aVQZ','aVTZ','aVDZ'])\n",
    "plt.xlim(1/8,5/8)\n",
    "print(snbf)\n",
    "print(np.array(scputime)/scputime[0])"
   ]
  },
  {
   "cell_type": "code",
   "execution_count": 110,
   "metadata": {
    "collapsed": false
   },
   "outputs": [
    {
     "name": "stdout",
     "output_type": "stream",
     "text": [
      "[52.869718285534731, -38.004891301751911, -73.943909352434957, -81.921465539170256, -77.799358903394847, -68.550133972983929, -36.838881055594776, -23.449940955842436, -10.776493113406765, -5.7194958764368664]\n"
     ]
    },
    {
     "data": {
      "text/plain": [
       "<matplotlib.legend.Legend at 0x10b9035c0>"
      ]
     },
     "execution_count": 110,
     "metadata": {},
     "output_type": "execute_result"
    },
    {
     "data": {
      "image/png": "[encoded data removed]",
      "text/plain": [
       "<matplotlib.figure.Figure at 0x10c03f4a8>"
      ]
     },
     "metadata": {},
     "output_type": "display_data"
    }
   ],
   "source": [
    "szo=[2.8,3.0,3.2,3.36,3.6,3.8,4.5,5.0,6.0,7.0]\n",
    "sdEccsdtcbsaVDTZ=[]\n",
    "sdEccsdtcbsaVTQZ=[]\n",
    "for zo in szo:\n",
    "    sdEccsdtcbsaVDTZ.append(fccsdtcbs(dfg[dfg['worient']=='d'],{'X1':'aVDZ','X2':'aVTZ','smlbs':'631gd25'},zo))\n",
    "    sdEccsdtcbsaVTQZ.append(fccsdtcbs(dfg[dfg['worient']=='d'],{'X1':'aVTZ','X2':'aVQZ','smlbs':'631gd25'},zo))\n",
    "print(sdEccsdtcbsaVDTZ)\n",
    "\n",
    "fig=plt.figure(figsize=(8,6))\n",
    "plt.plot(szo,sdEccsdtcbsaVDTZ,linestyle=\"\",linewidth=1.5,marker='o',markersize=7,fillstyle='none',mew=1.5,color='b')\n",
    "plt.plot(szo,sdEccsdtcbsaVTQZ,linestyle=\"\",linewidth=1.5,marker='s',markersize=7,fillstyle='none',mew=1.5,color='r')\n",
    "plt.legend([\"aVDTZ\",\"aVTQZ\"])"
   ]
  },
  {
   "cell_type": "code",
   "execution_count": 116,
   "metadata": {
    "collapsed": false
   },
   "outputs": [
    {
     "name": "stdout",
     "output_type": "stream",
     "text": [
      "                                             dEmp2   dEccsdt      diff\n",
      "d, 6-31G(d=0.25)                            -53.12    -55.04     -1.92\n",
      "d, aVTZ, @blacklight                        -74.31    -79.69     -5.38\n",
      "\n",
      "                                             dEmp2   dEccsdt      diff\n",
      "u, 6-31G(d=0.25)                             10.80      9.17     -1.63\n",
      "u, pVDZ                                      25.65     22.63     -3.02\n",
      "u, pVTZ                                       4.21      2.90     -1.31\n",
      "u, aVDZ                                      -9.04    -12.26     -3.22\n",
      "u, aVTZ                                     -13.13    -16.41     -3.28\n"
     ]
    }
   ],
   "source": [
    "sel=dfg[(dfg['zo']==3.36) & (dfg['worient']=='d')]\n",
    "sels=sel[(sel['method']=='mp2') & (sel['basis']=='631gd25')]\n",
    "dEmp2=fdE(sels[sels['system']==pdefaultsg['system']], sels[sels['system']==pdefaultsg['monomers'][0]], sels[sels['system']==pdefaultsg['monomers'][1]])\n",
    "sels=sel[(sel['method']=='ccsdt') & (sel['basis']=='631gd25')]\n",
    "dEccsdt=fdE(sels[sels['system']==pdefaultsg['system']], sels[sels['system']==pdefaultsg['monomers'][0]], sels[sels['system']==pdefaultsg['monomers'][1]])\n",
    "dEdiffccsdtmp2=dEccsdt-dEmp2\n",
    "print(\"%-40s%10s%10s%10s\"%('','dEmp2','dEccsdt','diff'))\n",
    "print(\"%-40s%10.2f%10.2f%10.2f\"%('d, 6-31G(d=0.25)',dEmp2,dEccsdt,dEdiffccsdtmp2))\n",
    "\n",
    "sels=sel[(sel['method']=='mp2') & (sel['basis']=='aVTZ')]\n",
    "dEmp2=fdE(sels[sels['system']==pdefaultsg['system']], sels[sels['system']==pdefaultsg['monomers'][0]], sels[sels['system']==pdefaultsg['monomers'][1]])\n",
    "sels=sel[(sel['method']=='ccsdt') & (sel['basis']=='aVTZ')]\n",
    "dEccsdt=fdE(sels[sels['system']==pdefaultsg['system']], sels[sels['system']==pdefaultsg['monomers'][0]], sels[sels['system']==pdefaultsg['monomers'][1]])\n",
    "dEdiffccsdtmp2=dEccsdt-dEmp2\n",
    "print(\"%-40s%10.2f%10.2f%10.2f\"%('d, aVTZ, @blacklight',dEmp2,dEccsdt,dEdiffccsdtmp2))\n",
    "\n",
    "print(\"\")\n",
    "\n",
    "\n",
    "sel=dfg[(dfg['zo']==3.36) & (dfg['worient']=='u')]\n",
    "sels=sel[(sel['method']=='mp2') & (sel['basis']=='631gd25')]\n",
    "dEmp2=fdE(sels[sels['system']==pdefaultsg['system']], sels[sels['system']==pdefaultsg['monomers'][0]], sels[sels['system']==pdefaultsg['monomers'][1]])\n",
    "sels=sel[(sel['method']=='ccsdt') & (sel['basis']=='631gd25')]\n",
    "dEccsdt=fdE(sels[sels['system']==pdefaultsg['system']], sels[sels['system']==pdefaultsg['monomers'][0]], sels[sels['system']==pdefaultsg['monomers'][1]])\n",
    "dEdiffccsdtmp2=dEccsdt-dEmp2\n",
    "print(\"%-40s%10s%10s%10s\"%('','dEmp2','dEccsdt','diff'))\n",
    "print(\"%-40s%10.2f%10.2f%10.2f\"%('u, 6-31G(d=0.25)',dEmp2,dEccsdt,dEdiffccsdtmp2))\n",
    "\n",
    "sels=sel[(sel['method']=='mp2') & (sel['basis']=='pVDZ')]\n",
    "dEmp2=fdE(sels[sels['system']==pdefaultsg['system']], sels[sels['system']==pdefaultsg['monomers'][0]], sels[sels['system']==pdefaultsg['monomers'][1]])\n",
    "sels=sel[(sel['method']=='ccsdt') & (sel['basis']=='pVDZ')]\n",
    "dEccsdt=fdE(sels[sels['system']==pdefaultsg['system']], sels[sels['system']==pdefaultsg['monomers'][0]], sels[sels['system']==pdefaultsg['monomers'][1]])\n",
    "dEdiffccsdtmp2=dEccsdt-dEmp2\n",
    "print(\"%-40s%10.2f%10.2f%10.2f\"%('u, pVDZ',dEmp2,dEccsdt,dEdiffccsdtmp2))\n",
    "\n",
    "sels=sel[(sel['method']=='mp2') & (sel['basis']=='pVTZ')]\n",
    "dEmp2=fdE(sels[sels['system']==pdefaultsg['system']], sels[sels['system']==pdefaultsg['monomers'][0]], sels[sels['system']==pdefaultsg['monomers'][1]])\n",
    "sels=sel[(sel['method']=='ccsdt') & (sel['basis']=='pVTZ')]\n",
    "dEccsdt=fdE(sels[sels['system']==pdefaultsg['system']], sels[sels['system']==pdefaultsg['monomers'][0]], sels[sels['system']==pdefaultsg['monomers'][1]])\n",
    "dEdiffccsdtmp2=dEccsdt-dEmp2\n",
    "print(\"%-40s%10.2f%10.2f%10.2f\"%('u, pVTZ',dEmp2,dEccsdt,dEdiffccsdtmp2))\n",
    "\n",
    "sels=sel[(sel['method']=='mp2') & (sel['basis']=='aVDZ')]\n",
    "dEmp2=fdE(sels[sels['system']==pdefaultsg['system']], sels[sels['system']==pdefaultsg['monomers'][0]], sels[sels['system']==pdefaultsg['monomers'][1]])\n",
    "sels=sel[(sel['method']=='ccsdt') & (sel['basis']=='aVDZ')]\n",
    "dEccsdt=fdE(sels[sels['system']==pdefaultsg['system']], sels[sels['system']==pdefaultsg['monomers'][0]], sels[sels['system']==pdefaultsg['monomers'][1]])\n",
    "dEdiffccsdtmp2=dEccsdt-dEmp2\n",
    "print(\"%-40s%10.2f%10.2f%10.2f\"%('u, aVDZ',dEmp2,dEccsdt,dEdiffccsdtmp2))\n",
    "\n",
    "sels=sel[(sel['method']=='mp2') & (sel['basis']=='aVTZ')]\n",
    "dEmp2=fdE(sels[sels['system']==pdefaultsg['system']], sels[sels['system']==pdefaultsg['monomers'][0]], sels[sels['system']==pdefaultsg['monomers'][1]])\n",
    "sels=sel[(sel['method']=='ccsdt') & (sel['basis']=='aVTZ')]\n",
    "dEccsdt=fdE(sels[sels['system']==pdefaultsg['system']], sels[sels['system']==pdefaultsg['monomers'][0]], sels[sels['system']==pdefaultsg['monomers'][1]])\n",
    "dEdiffccsdtmp2=dEccsdt-dEmp2\n",
    "print(\"%-40s%10.2f%10.2f%10.2f\"%('u, aVTZ',dEmp2,dEccsdt,dEdiffccsdtmp2))"
   ]
  },
  {
   "cell_type": "code",
   "execution_count": null,
   "metadata": {
    "collapsed": true
   },
   "outputs": [],
   "source": []
  }
 ],
 "metadata": {
  "kernelspec": {
   "display_name": "Python 3",
   "language": "python",
   "name": "python3"
  },
  "language_info": {
   "codemirror_mode": {
    "name": "ipython",
    "version": 3
   },
   "file_extension": ".py",
   "mimetype": "text/x-python",
   "name": "python",
   "nbconvert_exporter": "python",
   "pygments_lexer": "ipython3",
   "version": "3.5.1"
  }
 },
 "nbformat": 4,
 "nbformat_minor": 0
}
